{
 "cells": [
  {
   "cell_type": "markdown",
   "metadata": {},
   "source": [
    "# Credit  \n",
    "\n",
    "This page is adapted from University of Cambridge Engineering Department's GitHub page [here](https://github.com/CambridgeEngineering).  \n",
    "\n",
    "# Introduction  \n",
    "\n",
    "We begin with assignment to variables and familiar mathematical operations.  \n",
    "\n",
    "# Objectives  \n",
    "\n",
    "1. Introduce expressions and basic operators  \n",
    "1. Introduce operator precedence "
   ]
  },
  {
   "cell_type": "markdown",
   "metadata": {},
   "source": [
    "# Table of Contents  \n",
    "\n",
    "+ [Evaluating expressions: simple operators](#evaluation)\n",
    "+ [Operator precedence](#operator)  "
   ]
  },
  {
   "cell_type": "markdown",
   "metadata": {},
   "source": [
    "# Evaluating expressions: simple operators <a id=\"evaluation\" />  \n",
    "\n",
    "We can use Python like a **calculator**. Consider the simple expression $3+8$. We can evaluate and print this by:"
   ]
  },
  {
   "cell_type": "code",
   "execution_count": 1,
   "metadata": {},
   "outputs": [
    {
     "data": {
      "text/plain": [
       "11"
      ]
     },
     "execution_count": 1,
     "metadata": {},
     "output_type": "execute_result"
    }
   ],
   "source": [
    "3 + 8"
   ]
  },
  {
   "cell_type": "markdown",
   "metadata": {},
   "source": [
    "Another simple calculation is the *gravitational potential* $V$ of a body of mass $m$ (point mass) at a distance $r_{M}$ from a body of mass $M$, which is given by\n",
    "\n",
    "$$\n",
    "V = \\frac{GMm}{r_{M}}\n",
    "$$\n",
    "\n",
    "where $G$ is the *gravitational constant*. A good approximation is $G = 6.674 \\times 10^{−11}$ N m$^{2}$ kg$^{-2}$.  \n",
    "\n",
    "For the case $M = 1.65 \\times 10^{12}$ kg, $m = 6.1 \\times 10^{2}$ kg and $r_{M} = 7.0 \\times 10 ^{3}$ m, we can easily compute the gravitational potential $V$ using Python.  \n",
    "\n",
    "To display the value of $V$, we will use the **f-strings** functionality first introduced in Python 3.6.  \n",
    "\n",
    "For this to work, **you must make sure that your Python kernel is at least 3.6**: go to *Kernel → Change Kernel → Select Python 3.6*  \n",
    "\n",
    "Notice below how you can easily round a variable inside an f-string!  "
   ]
  },
  {
   "cell_type": "code",
   "execution_count": 2,
   "metadata": {},
   "outputs": [
    {
     "name": "stdout",
     "output_type": "stream",
     "text": [
      "Value of V rounded to 3 decimal places is 9.596\n"
     ]
    }
   ],
   "source": [
    "V = 6.674e-11*1.65e12*6.1e2/7.0e3\n",
    "print(f'Value of V rounded to 3 decimal places is {V:.3f}')"
   ]
  },
  {
   "cell_type": "markdown",
   "metadata": {},
   "source": [
    "We have used 'scientific notation' to input the values. For example, the number $8 \\times 10^{−2}$ can be input as `0.08` or `8e-2`. We can easily verify that the two are the same via subtraction:"
   ]
  },
  {
   "cell_type": "code",
   "execution_count": 3,
   "metadata": {},
   "outputs": [
    {
     "data": {
      "text/plain": [
       "0.0"
      ]
     },
     "execution_count": 3,
     "metadata": {},
     "output_type": "execute_result"
    }
   ],
   "source": [
    "0.08 - 8e-2"
   ]
  },
  {
   "cell_type": "markdown",
   "metadata": {},
   "source": [
    "A common operation is raising a nunber to a power. To compute $3^{4}$:"
   ]
  },
  {
   "cell_type": "code",
   "execution_count": 4,
   "metadata": {},
   "outputs": [
    {
     "data": {
      "text/plain": [
       "81"
      ]
     },
     "execution_count": 4,
     "metadata": {},
     "output_type": "execute_result"
    }
   ],
   "source": [
    "3**4"
   ]
  },
  {
   "cell_type": "markdown",
   "metadata": {},
   "source": [
    "The remainder is computed using the modulus operator '`%`':"
   ]
  },
  {
   "cell_type": "code",
   "execution_count": 5,
   "metadata": {},
   "outputs": [
    {
     "data": {
      "text/plain": [
       "2"
      ]
     },
     "execution_count": 5,
     "metadata": {},
     "output_type": "execute_result"
    }
   ],
   "source": [
    "11 % 3 "
   ]
  },
  {
   "cell_type": "markdown",
   "metadata": {},
   "source": [
    "To get the quotient we use 'floor division', which uses the symbol '`//`':"
   ]
  },
  {
   "cell_type": "code",
   "execution_count": 6,
   "metadata": {},
   "outputs": [
    {
     "data": {
      "text/plain": [
       "3"
      ]
     },
     "execution_count": 6,
     "metadata": {},
     "output_type": "execute_result"
    }
   ],
   "source": [
    "11 // 3"
   ]
  },
  {
   "cell_type": "markdown",
   "metadata": {},
   "source": [
    "# Operator precedence <a id=\"operator\" />\n"
   ]
  },
  {
   "cell_type": "markdown",
   "metadata": {},
   "source": [
    "Operator precedence refers to the order in which operations are performed, e.g. multiplication before addition.\n",
    "Most programming languages, including Python, follow the usual mathematical rules for precedence. We explore this through some examples."
   ]
  },
  {
   "cell_type": "markdown",
   "metadata": {},
   "source": [
    "Consider the expression $4 \\cdot (7 − 2) = 20$. If we are careless,"
   ]
  },
  {
   "cell_type": "code",
   "execution_count": 7,
   "metadata": {},
   "outputs": [
    {
     "data": {
      "text/plain": [
       "26"
      ]
     },
     "execution_count": 7,
     "metadata": {},
     "output_type": "execute_result"
    }
   ],
   "source": [
    "4*7 - 2"
   ]
  },
  {
   "cell_type": "markdown",
   "metadata": {},
   "source": [
    "In the above, `4*7` is evaluated first, then `2` is subtracted because multiplication (`\\*`) comes before subtraction (`-`) in terms of precedence. We can control the order of the operation using brackets, just as we would on paper:"
   ]
  },
  {
   "cell_type": "code",
   "execution_count": 8,
   "metadata": {},
   "outputs": [
    {
     "data": {
      "text/plain": [
       "20"
      ]
     },
     "execution_count": 8,
     "metadata": {},
     "output_type": "execute_result"
    }
   ],
   "source": [
    "4*(7 - 2)"
   ]
  },
  {
   "cell_type": "markdown",
   "metadata": {},
   "source": [
    "A common example where readability is a concern is\n",
    "\n",
    "$$\n",
    "\\frac {10}{2 \\times 50} = 0.1\n",
    "$$\n",
    "\n",
    "The code"
   ]
  },
  {
   "cell_type": "code",
   "execution_count": 9,
   "metadata": {},
   "outputs": [
    {
     "data": {
      "text/plain": [
       "250.0"
      ]
     },
     "execution_count": 9,
     "metadata": {},
     "output_type": "execute_result"
    }
   ],
   "source": [
    "10/2*50"
   ]
  },
  {
   "cell_type": "markdown",
   "metadata": {},
   "source": [
    "is not consistent with what we wish to compute. Multiplication and division have the same precedence, so the expression is evaluated 'left-to-right'. The correct result is computed from"
   ]
  },
  {
   "cell_type": "code",
   "execution_count": 10,
   "metadata": {},
   "outputs": [
    {
     "data": {
      "text/plain": [
       "0.1"
      ]
     },
     "execution_count": 10,
     "metadata": {},
     "output_type": "execute_result"
    }
   ],
   "source": [
    "10/2/50"
   ]
  },
  {
   "cell_type": "markdown",
   "metadata": {},
   "source": [
    "but this is hard to read and could easily lead to errors in a program. Better is to use brackets to make the order clear:"
   ]
  },
  {
   "cell_type": "code",
   "execution_count": 11,
   "metadata": {},
   "outputs": [
    {
     "data": {
      "text/plain": [
       "0.1"
      ]
     },
     "execution_count": 11,
     "metadata": {},
     "output_type": "execute_result"
    }
   ],
   "source": [
    "10/(2*50)"
   ]
  }
 ],
 "metadata": {
  "kernelspec": {
   "display_name": "Python 3",
   "language": "python",
   "name": "python3"
  },
  "language_info": {
   "codemirror_mode": {
    "name": "ipython",
    "version": 3
   },
   "file_extension": ".py",
   "mimetype": "text/x-python",
   "name": "python",
   "nbconvert_exporter": "python",
   "pygments_lexer": "ipython3",
   "version": "3.7.6"
  }
 },
 "nbformat": 4,
 "nbformat_minor": 4
}
